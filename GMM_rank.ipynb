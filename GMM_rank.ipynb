{
 "cells": [
  {
   "cell_type": "markdown",
   "id": "cca52a84",
   "metadata": {},
   "source": [
    "#### Bibliothèques"
   ]
  },
  {
   "cell_type": "code",
   "execution_count": 322,
   "id": "85ae3a36",
   "metadata": {},
   "outputs": [],
   "source": [
    "import pandas as pd\n",
    "import numpy as np\n",
    "import six\n",
    "import sys\n",
    "sys.modules['sklearn.externals.six'] = six\n",
    "from sklearn import mixture\n",
    "from sklearn.metrics import accuracy_score\n",
    "from sklearn.metrics import f1_score\n",
    "from sklearn.preprocessing import StandardScaler\n",
    "import matplotlib.pyplot as plt"
   ]
  },
  {
   "cell_type": "markdown",
   "id": "94d5564d",
   "metadata": {},
   "source": [
    "#### Données"
   ]
  },
  {
   "cell_type": "code",
   "execution_count": 2,
   "id": "722df582",
   "metadata": {},
   "outputs": [],
   "source": [
    "df_red = pd.read_csv('winequality-red.csv', delimiter=';')"
   ]
  },
  {
   "cell_type": "code",
   "execution_count": 3,
   "id": "65eba011",
   "metadata": {},
   "outputs": [],
   "source": [
    "df_white = pd.read_csv('winequality-white.csv', delimiter=';')"
   ]
  },
  {
   "cell_type": "code",
   "execution_count": 4,
   "id": "92f5b1d4",
   "metadata": {},
   "outputs": [],
   "source": [
    "df_tot = pd.concat([df_red, df_white])"
   ]
  },
  {
   "cell_type": "markdown",
   "id": "43ffb634",
   "metadata": {},
   "source": [
    "#### Création des classes"
   ]
  },
  {
   "cell_type": "code",
   "execution_count": 5,
   "id": "d395e380",
   "metadata": {},
   "outputs": [],
   "source": [
    "df_tot['rank'] = np.select([(df_tot['quality'] <= 5), (df_tot['quality'] > 5) & (df_tot['quality'] <= 6), (df_tot['quality'] > 6)], ['low', 'middle', 'high'])"
   ]
  },
  {
   "cell_type": "code",
   "execution_count": 7,
   "id": "b061e6f3",
   "metadata": {},
   "outputs": [],
   "source": [
    "df_tot.drop('quality', axis=1, inplace=True)"
   ]
  },
  {
   "cell_type": "markdown",
   "id": "a2dbcc12",
   "metadata": {},
   "source": [
    "#### Mélange aléatoire des données"
   ]
  },
  {
   "cell_type": "code",
   "execution_count": 27,
   "id": "2711020a",
   "metadata": {},
   "outputs": [],
   "source": [
    "df_tot = df_tot.sample(frac=1)"
   ]
  },
  {
   "cell_type": "markdown",
   "id": "61896aec",
   "metadata": {},
   "source": [
    "#### Divison des données entre apprentissage et test"
   ]
  },
  {
   "cell_type": "code",
   "execution_count": 202,
   "id": "e0bec572",
   "metadata": {},
   "outputs": [],
   "source": [
    "df_train = df_tot.iloc[:5198, :]"
   ]
  },
  {
   "cell_type": "code",
   "execution_count": 47,
   "id": "e18d39c4",
   "metadata": {},
   "outputs": [],
   "source": [
    "df_test = df_tot.iloc[5198:, :]"
   ]
  },
  {
   "cell_type": "code",
   "execution_count": 203,
   "id": "5927eb59",
   "metadata": {},
   "outputs": [],
   "source": [
    "train_X = df_train.iloc[:, :11]"
   ]
  },
  {
   "cell_type": "code",
   "execution_count": 204,
   "id": "7f14a611",
   "metadata": {},
   "outputs": [],
   "source": [
    "train_y = df_train.iloc[:, 11]"
   ]
  },
  {
   "cell_type": "code",
   "execution_count": 63,
   "id": "ab81513c",
   "metadata": {},
   "outputs": [],
   "source": [
    "test_X = df_test.iloc[:, :11]"
   ]
  },
  {
   "cell_type": "code",
   "execution_count": 64,
   "id": "d97b8848",
   "metadata": {},
   "outputs": [],
   "source": [
    "test_y = df_test.iloc[:, 11]"
   ]
  },
  {
   "cell_type": "markdown",
   "id": "96bf22c2",
   "metadata": {},
   "source": [
    "#### Essai de GMM avec différents types de covariances"
   ]
  },
  {
   "cell_type": "code",
   "execution_count": 235,
   "id": "4cefea83",
   "metadata": {},
   "outputs": [],
   "source": [
    "model = mixture.GaussianMixture(n_components=3,\n",
    "                         covariance_type='tied',\n",
    "                         max_iter=100,\n",
    "                         n_init=100,\n",
    "                         init_params='kmeans',\n",
    "                         verbose=0,\n",
    "                         random_state=1\n",
    "                        )"
   ]
  },
  {
   "cell_type": "code",
   "execution_count": 236,
   "id": "c9d9fd6f",
   "metadata": {},
   "outputs": [],
   "source": [
    "classif = model.fit(X = train_X, y = train_y)"
   ]
  },
  {
   "cell_type": "code",
   "execution_count": 237,
   "id": "ce0391e9",
   "metadata": {},
   "outputs": [],
   "source": [
    "pred = model.predict(X = test_X)"
   ]
  },
  {
   "cell_type": "code",
   "execution_count": 243,
   "id": "e332c19d",
   "metadata": {},
   "outputs": [
    {
     "data": {
      "text/plain": [
       "0.41647421093148573"
      ]
     },
     "execution_count": 243,
     "metadata": {},
     "output_type": "execute_result"
    }
   ],
   "source": [
    "accuracy_score(test_y2, pred)"
   ]
  },
  {
   "cell_type": "code",
   "execution_count": null,
   "id": "68a6ded8",
   "metadata": {},
   "outputs": [],
   "source": [
    "res1 = [0] * 80\n",
    "for i in range(1, 200, 10):\n",
    "    model = mixture.GaussianMixture(n_components=3,\n",
    "                         covariance_type='tied',\n",
    "                         max_iter=i,\n",
    "                         n_init=100,\n",
    "                         init_params='kmeans',\n",
    "                         verbose=0,\n",
    "                         random_state=1\n",
    "                        )\n",
    "    classif = model.fit(X = train_X, y = train_y)\n",
    "    pred = model.predict(X = test_X)\n",
    "    res1[i] = accuracy_score(test_y2, pred)"
   ]
  },
  {
   "cell_type": "code",
   "execution_count": 307,
   "id": "1b104d1e",
   "metadata": {},
   "outputs": [
    {
     "data": {
      "image/png": "[encoded data removed]",
      "text/plain": [
       "<Figure size 432x288 with 1 Axes>"
      ]
     },
     "metadata": {
      "needs_background": "light"
     },
     "output_type": "display_data"
    }
   ],
   "source": [
    "# 14 max_iter\n",
    "res1.plot();"
   ]
  },
  {
   "cell_type": "code",
   "execution_count": 325,
   "id": "a6ca00ac",
   "metadata": {},
   "outputs": [
    {
     "data": {
      "text/plain": [
       "0.41647421093148573"
      ]
     },
     "execution_count": 325,
     "metadata": {},
     "output_type": "execute_result"
    }
   ],
   "source": [
    "f1_score(test_y2, pred, average='micro')"
   ]
  }
 ],
 "metadata": {
  "kernelspec": {
   "display_name": "Python 3",
   "language": "python",
   "name": "python3"
  },
  "language_info": {
   "codemirror_mode": {
    "name": "ipython",
    "version": 3
   },
   "file_extension": ".py",
   "mimetype": "text/x-python",
   "name": "python",
   "nbconvert_exporter": "python",
   "pygments_lexer": "ipython3",
   "version": "3.9.2"
  }
 },
 "nbformat": 4,
 "nbformat_minor": 5
}
